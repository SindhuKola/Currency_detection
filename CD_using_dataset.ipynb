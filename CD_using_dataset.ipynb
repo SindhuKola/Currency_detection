{
 "cells": [
  {
   "cell_type": "code",
   "execution_count": 1,
   "id": "b7e12b97-e702-4c5f-a9bb-ef9d02c5e1d4",
   "metadata": {},
   "outputs": [
    {
     "name": "stdout",
     "output_type": "stream",
     "text": [
      "Requirement already satisfied: pandas in c:\\users\\abhir\\appdata\\local\\programs\\python\\python313\\lib\\site-packages (2.2.3)\n",
      "Collecting scikit-learn\n",
      "  Downloading scikit_learn-1.6.1-cp313-cp313-win_amd64.whl.metadata (15 kB)\n",
      "Collecting joblib\n",
      "  Downloading joblib-1.4.2-py3-none-any.whl.metadata (5.4 kB)\n",
      "Requirement already satisfied: numpy>=1.26.0 in c:\\users\\abhir\\appdata\\local\\programs\\python\\python313\\lib\\site-packages (from pandas) (2.1.2)\n",
      "Requirement already satisfied: python-dateutil>=2.8.2 in c:\\users\\abhir\\appdata\\local\\programs\\python\\python313\\lib\\site-packages (from pandas) (2.9.0.post0)\n",
      "Requirement already satisfied: pytz>=2020.1 in c:\\users\\abhir\\appdata\\local\\programs\\python\\python313\\lib\\site-packages (from pandas) (2024.2)\n",
      "Requirement already satisfied: tzdata>=2022.7 in c:\\users\\abhir\\appdata\\local\\programs\\python\\python313\\lib\\site-packages (from pandas) (2024.2)\n",
      "Collecting scipy>=1.6.0 (from scikit-learn)\n",
      "  Downloading scipy-1.15.2-cp313-cp313-win_amd64.whl.metadata (60 kB)\n",
      "Collecting threadpoolctl>=3.1.0 (from scikit-learn)\n",
      "  Downloading threadpoolctl-3.6.0-py3-none-any.whl.metadata (13 kB)\n",
      "Requirement already satisfied: six>=1.5 in c:\\users\\abhir\\appdata\\local\\programs\\python\\python313\\lib\\site-packages (from python-dateutil>=2.8.2->pandas) (1.16.0)\n",
      "Downloading scikit_learn-1.6.1-cp313-cp313-win_amd64.whl (11.1 MB)\n",
      "   ---------------------------------------- 0.0/11.1 MB ? eta -:--:--\n",
      "   -------------------- ------------------- 5.8/11.1 MB 30.0 MB/s eta 0:00:01\n",
      "   ----------------------------------- ---- 10.0/11.1 MB 24.3 MB/s eta 0:00:01\n",
      "   ---------------------------------------- 11.1/11.1 MB 21.8 MB/s eta 0:00:00\n",
      "Downloading joblib-1.4.2-py3-none-any.whl (301 kB)\n",
      "Downloading scipy-1.15.2-cp313-cp313-win_amd64.whl (41.0 MB)\n",
      "   ---------------------------------------- 0.0/41.0 MB ? eta -:--:--\n",
      "   ----- ---------------------------------- 5.2/41.0 MB 25.2 MB/s eta 0:00:02\n",
      "   --------- ------------------------------ 9.4/41.0 MB 22.2 MB/s eta 0:00:02\n",
      "   ------------- -------------------------- 13.4/41.0 MB 21.3 MB/s eta 0:00:02\n",
      "   ---------------- ----------------------- 17.3/41.0 MB 20.8 MB/s eta 0:00:02\n",
      "   -------------------- ------------------- 21.5/41.0 MB 20.6 MB/s eta 0:00:01\n",
      "   ------------------------ --------------- 25.4/41.0 MB 20.4 MB/s eta 0:00:01\n",
      "   ---------------------------- ----------- 29.4/41.0 MB 20.2 MB/s eta 0:00:01\n",
      "   -------------------------------- ------- 33.6/41.0 MB 20.1 MB/s eta 0:00:01\n",
      "   ------------------------------------ --- 37.5/41.0 MB 20.1 MB/s eta 0:00:01\n",
      "   ---------------------------------------  40.9/41.0 MB 20.0 MB/s eta 0:00:01\n",
      "   ---------------------------------------- 41.0/41.0 MB 19.3 MB/s eta 0:00:00\n",
      "Downloading threadpoolctl-3.6.0-py3-none-any.whl (18 kB)\n",
      "Installing collected packages: threadpoolctl, scipy, joblib, scikit-learn\n",
      "Successfully installed joblib-1.4.2 scikit-learn-1.6.1 scipy-1.15.2 threadpoolctl-3.6.0\n",
      "Note: you may need to restart the kernel to use updated packages.\n"
     ]
    },
    {
     "name": "stderr",
     "output_type": "stream",
     "text": [
      "\n",
      "[notice] A new release of pip is available: 24.2 -> 25.0.1\n",
      "[notice] To update, run: python.exe -m pip install --upgrade pip\n"
     ]
    }
   ],
   "source": [
    "pip install pandas scikit-learn joblib"
   ]
  },
  {
   "cell_type": "code",
   "execution_count": 3,
   "id": "455291c5-74ab-40ff-bce9-13130dc12c78",
   "metadata": {},
   "outputs": [],
   "source": [
    "import pandas as pd\n",
    "from sklearn.model_selection import train_test_split\n",
    "from sklearn.ensemble import RandomForestClassifier\n",
    "from sklearn.metrics import accuracy_score, classification_report\n",
    "import joblib\n",
    "\n",
    "# Load dataset (download from Kaggle or UCI and place in working directory)\n",
    "df = pd.read_csv(\"data_banknote_authentication.csv\", header=None)\n",
    "df.columns = [\"variance\", \"skewness\", \"curtosis\", \"entropy\", \"class\"]\n"
   ]
  },
  {
   "cell_type": "code",
   "execution_count": 4,
   "id": "8655e504-eb0c-4b2a-8dc2-4be6a91ffa3d",
   "metadata": {},
   "outputs": [
    {
     "data": {
      "text/plain": [
       "['currency_classifier.pkl']"
      ]
     },
     "execution_count": 4,
     "metadata": {},
     "output_type": "execute_result"
    }
   ],
   "source": [
    "# Split into features and target\n",
    "X = df.drop(\"class\", axis=1)\n",
    "y = df[\"class\"]  # 0 = Genuine, 1 = Fake\n",
    "\n",
    "# Train-test split\n",
    "X_train, X_test, y_train, y_test = train_test_split(X, y, test_size=0.2, random_state=42)\n",
    "\n",
    "# Train Random Forest Classifier\n",
    "model = RandomForestClassifier(n_estimators=100, random_state=42)\n",
    "model.fit(X_train, y_train)\n",
    "\n",
    "# Save the model\n",
    "joblib.dump(model, \"currency_classifier.pkl\")\n"
   ]
  },
  {
   "cell_type": "code",
   "execution_count": 6,
   "id": "3b7c3d45-3896-4f36-b80a-99e2f174b192",
   "metadata": {},
   "outputs": [
    {
     "name": "stdout",
     "output_type": "stream",
     "text": [
      "Model Accuracy: 0.9927272727272727\n",
      "Classification Report:\n",
      "               precision    recall  f1-score   support\n",
      "\n",
      "           0       0.99      1.00      0.99       148\n",
      "           1       1.00      0.98      0.99       127\n",
      "\n",
      "    accuracy                           0.99       275\n",
      "   macro avg       0.99      0.99      0.99       275\n",
      "weighted avg       0.99      0.99      0.99       275\n",
      "\n",
      "Sample 1 (Expected Genuine) prediction => The currency is: Genuine\n",
      "Sample 2 (Expected Fake) prediction => The currency is: Fake\n"
     ]
    },
    {
     "name": "stderr",
     "output_type": "stream",
     "text": [
      "C:\\Users\\abhir\\AppData\\Local\\Programs\\Python\\Python313\\Lib\\site-packages\\sklearn\\utils\\validation.py:2739: UserWarning: X does not have valid feature names, but RandomForestClassifier was fitted with feature names\n",
      "  warnings.warn(\n",
      "C:\\Users\\abhir\\AppData\\Local\\Programs\\Python\\Python313\\Lib\\site-packages\\sklearn\\utils\\validation.py:2739: UserWarning: X does not have valid feature names, but RandomForestClassifier was fitted with feature names\n",
      "  warnings.warn(\n"
     ]
    }
   ],
   "source": [
    "# Load trained model\n",
    "model = joblib.load(\"currency_classifier.pkl\")\n",
    "\n",
    "# Accuracy check\n",
    "y_pred = model.predict(X_test)\n",
    "print(\"Model Accuracy:\", accuracy_score(y_test, y_pred))\n",
    "print(\"Classification Report:\\n\", classification_report(y_test, y_pred))\n",
    "\n",
    "# ----------------------------\n",
    "# Example Inputs\n",
    "# ----------------------------\n",
    "\n",
    "# Sample likely to be GENUINE\n",
    "sample_genuine = [[3.6216, 8.6661, -2.8073, -0.44699]]\n",
    "\n",
    "# Sample likely to be FAKE\n",
    "sample_fake = [[-4.3970, -0.5865, 4.9242, -4.7730]]\n",
    "\n",
    "# Predicting results\n",
    "def predict_currency(sample, label):\n",
    "    prediction = model.predict(sample)[0]\n",
    "    result = \"Genuine\" if prediction == 0 else \"Fake\"\n",
    "    print(f\"{label} prediction => The currency is: {result}\")\n",
    "\n",
    "# Run predictions\n",
    "predict_currency(sample_genuine, \"Sample 1 (Expected Genuine)\")\n",
    "predict_currency(sample_fake, \"Sample 2 (Expected Fake)\")\n"
   ]
  }
 ],
 "metadata": {
  "kernelspec": {
   "display_name": "Python 3 (ipykernel)",
   "language": "python",
   "name": "python3"
  },
  "language_info": {
   "codemirror_mode": {
    "name": "ipython",
    "version": 3
   },
   "file_extension": ".py",
   "mimetype": "text/x-python",
   "name": "python",
   "nbconvert_exporter": "python",
   "pygments_lexer": "ipython3",
   "version": "3.12.7"
  }
 },
 "nbformat": 4,
 "nbformat_minor": 5
}
